{
  "metadata": {
    "kernelspec": {
      "name": "python",
      "display_name": "Python (Pyodide)",
      "language": "python"
    },
    "language_info": {
      "codemirror_mode": {
        "name": "python",
        "version": 3
      },
      "file_extension": ".py",
      "mimetype": "text/x-python",
      "name": "python",
      "nbconvert_exporter": "python",
      "pygments_lexer": "ipython3",
      "version": "3.8"
    }
  },
  "nbformat_minor": 5,
  "nbformat": 4,
  "cells": [
    {
      "id": "32e85712-97d9-45ab-8a56-f020f3fb294f",
      "cell_type": "code",
      "source": "import numpy as np\nfrom collections import Counter\ncount=0\n# --- Suffix Tree Implementation ---\nclass SuffixTreeNode:\n    def __init__(self):\n        self.children = {}  # key: char, value: (start, length, child node)\n        self.suffix_index = -1  # only for leaf nodes\n\nclass SuffixTree:\n    def __init__(self, text):\n        self.text = text\n        self.root = SuffixTreeNode()\n        self.build_suffix_tree()\n\n    def build_suffix_tree(self):\n        n = len(self.text)\n        for i in range(n):  # insert all suffixes\n            current = self.root\n            j = i\n            while j < n:\n                c = self.text[j]\n                if c not in current.children:\n                    # create new edge from j to end of string\n                    child = SuffixTreeNode()\n                    current.children[c] = (j, n - j, child)\n                    child.suffix_index = i\n                    break\n                else:\n                    start, length, child = current.children[c]\n                    k = 0\n                    while k < length and j + k < n and self.text[start + k] == self.text[j + k]:\n                        k += 1\n                    if k == length:\n                        current = child\n                        j += k\n                    else:\n                        # split the edge\n                        split = SuffixTreeNode()\n                        current.children[c] = (start, k, split)\n                        split.children[self.text[start + k]] = (start + k, length - k, child)\n                        new_leaf = SuffixTreeNode()\n                        split.children[self.text[j + k]] = (j + k, n - (j + k), new_leaf)\n                        new_leaf.suffix_index = i\n                        break\n\n# --- Suffix Array from Suffix Tree ---\ndef get_suffix_array_from_tree(suffix_tree):\n    result = []\n\n    def dfs(node):\n        if node.suffix_index != -1:\n            result.append(node.suffix_index)\n        for key in sorted(node.children.keys()):\n            _, _, child = node.children[key]\n            dfs(child)\n\n    dfs(suffix_tree.root)\n    return result\n\n# --- BWT & Tables ---\ndef compute_bwt(text, suffix_array):\n    text = text + \"$\"\n    bwt = \"\"\n    for i in suffix_array:\n        bwt += text[i - 1] if i != 0 else \"$\"\n    return bwt\n\ndef compute_c_table(bwt):\n    sorted_bwt = sorted(bwt)\n    unique_chars = sorted(set(bwt))\n    c_table = {char: sorted_bwt.index(char) for char in unique_chars}\n    return c_table\n\ndef compute_occ_table(bwt):\n    unique_chars = sorted(set(bwt))\n    occ_table = np.zeros((len(unique_chars), len(bwt) + 1), dtype=int)\n    char_to_index = {char: i for i, char in enumerate(unique_chars)}\n\n    for i in range(1, len(bwt) + 1):\n        occ_table[:, i] = occ_table[:, i - 1]\n        char = bwt[i - 1]\n        occ_table[char_to_index[char], i] += 1\n\n    return occ_table, char_to_index\n\n# --- Backward Search ---\ndef backward_search(pattern, c_table, occ_table, char_to_index, bwt):\n    s, e = 1, len(bwt)\n    for char in reversed(pattern):\n        if char not in char_to_index:\n            return []\n        idx = char_to_index[char]\n        s = c_table[char] + occ_table[idx, s - 1] + 1\n        e = c_table[char] + occ_table[idx, e]\n        if s > e:\n            return []\n    return list(range(s - 1, e))\n\n# --- Main Program ---\nif __name__ == \"__main__\":\n\n    reference_genome = (\n    \"ATGCGTACGTAGCTAGCTAGGCTAGCTAGGCTACGTAGCTAGCTAGGCTAGCGTACGTAGCTAGCTAGGCTACGTAGCTAG\"\n)\n\n\n    # Step 1: Build Suffix Tree and get Suffix Array\n    tree = SuffixTree(reference_genome + \"$\")\n    suffix_array = get_suffix_array_from_tree(tree)\n    bwt_string = compute_bwt(reference_genome, suffix_array)\n    c_table = compute_c_table(bwt_string)\n    occ_table, char_to_index = compute_occ_table(bwt_string)\n\n    # Step 2: Print FM-index details\n    print(\"Suffix Array:\", suffix_array)\n    print(\"BWT String:\", bwt_string)\n    print(\"C Table:\", c_table)\n    print(\"Occurrence Table:\")\n    for char, idx in char_to_index.items():\n        print(f\"{char}: {occ_table[idx]}\")\n\n    # Step 3: Seed-based search and reconstruction\n    seeds = [\n    \"ATG\", \"TGC\", \"GCG\", \"CGT\", \"GTA\", \"TAC\", \"ACG\", \"CGT\", \"GTA\", \"TAG\",  # from start\n    \"AGC\", \"GCT\", \"CTA\", \"TAG\", \"AGG\", \"GGC\", \"GCT\", \"CTA\", \"TAG\", \"AGC\",  # middle\n    \"CGT\", \"GTA\", \"TAG\", \"AGC\", \"GCT\",                                     # near end\n    \"XYZ\", \"ABC\", \"NOP\", \"TTT\", \"GGG\"                                      # do not match\n]\n # You can modify these\n    seed_len = 3\n    reconstruction = ['-' for _ in range(len(reference_genome))]\n\n    # Count occurrences of each seed\n    seed_counts = Counter(seeds)\n\n    print(\"\\n Performing seed-based search and reconstruction:\")\n    for seed in seed_counts:\n        print(f\"\\n Seed: '{seed}'\")\n        sa_indices = backward_search(seed, c_table, occ_table, char_to_index, bwt_string)\n        positions = [suffix_array[i] for i in sa_indices]\n        print(f\" Found at positions: {positions}\")\n\n        used = 0\n        max_uses = seed_counts[seed]\n        for pos in positions:\n            if used >= max_uses:\n                break\n            if pos + seed_len <= len(reference_genome):\n                reconstruction[pos:pos + seed_len] = list(seed)\n                used += 1\n\n    reconstructed_query = ''.join(reconstruction)\n    print(\"\\n Reconstructed Read Skeleton from Seeds:\")\n    print(reconstructed_query)",
      "metadata": {
        "trusted": true
      },
      "outputs": [
        {
          "name": "stdout",
          "output_type": "stream",
          "text": "Suffix Array: [81, 71, 54, 32, 6, 79, 49, 75, 58, 36, 10, 62, 23, 40, 14, 66, 27, 44, 18, 0, 51, 3, 72, 55, 33, 7, 69, 30, 77, 47, 60, 21, 38, 12, 64, 25, 42, 16, 80, 50, 2, 68, 29, 76, 46, 59, 20, 37, 11, 63, 24, 41, 15, 67, 28, 45, 19, 52, 4, 73, 56, 34, 8, 70, 53, 31, 5, 78, 48, 74, 57, 35, 9, 61, 22, 39, 13, 65, 26, 43, 17, 1]\nBWT String: GTTTTTTTTTTTTTTTTTT$GGAAAAGGGGGGGGGGGGAATGGAGAGAAAAAAAAAACCCCCCCGCGCCGGGGCCCCCCCCA\nC Table: {'$': 0, 'A': 1, 'C': 20, 'G': 38, 'T': 63}\nOccurrence Table:\n$: [0 0 0 0 0 0 0 0 0 0 0 0 0 0 0 0 0 0 0 0 1 1 1 1 1 1 1 1 1 1 1 1 1 1 1 1 1\n 1 1 1 1 1 1 1 1 1 1 1 1 1 1 1 1 1 1 1 1 1 1 1 1 1 1 1 1 1 1 1 1 1 1 1 1 1\n 1 1 1 1 1 1 1 1 1]\nA: [ 0  0  0  0  0  0  0  0  0  0  0  0  0  0  0  0  0  0  0  0  0  0  0  1\n  2  3  4  4  4  4  4  4  4  4  4  4  4  4  4  5  6  6  6  6  7  7  8  8\n  9 10 11 12 13 14 15 16 17 18 18 18 18 18 18 18 18 18 18 18 18 18 18 18\n 18 18 18 18 18 18 18 18 18 18 19]\nC: [ 0  0  0  0  0  0  0  0  0  0  0  0  0  0  0  0  0  0  0  0  0  0  0  0\n  0  0  0  0  0  0  0  0  0  0  0  0  0  0  0  0  0  0  0  0  0  0  0  0\n  0  0  0  0  0  0  0  0  0  0  1  2  3  4  5  6  7  7  8  8  9 10 10 10\n 10 10 11 12 13 14 15 16 17 18 18]\nG: [ 0  1  1  1  1  1  1  1  1  1  1  1  1  1  1  1  1  1  1  1  1  2  3  3\n  3  3  3  4  5  6  7  8  9 10 11 12 13 14 15 15 15 15 16 17 17 18 18 19\n 19 19 19 19 19 19 19 19 19 19 19 19 19 19 19 19 19 20 20 21 21 21 22 23\n 24 25 25 25 25 25 25 25 25 25 25]\nT: [ 0  0  1  2  3  4  5  6  7  8  9 10 11 12 13 14 15 16 17 18 18 18 18 18\n 18 18 18 18 18 18 18 18 18 18 18 18 18 18 18 18 18 19 19 19 19 19 19 19\n 19 19 19 19 19 19 19 19 19 19 19 19 19 19 19 19 19 19 19 19 19 19 19 19\n 19 19 19 19 19 19 19 19 19 19 19]\n\n Performing seed-based search and reconstruction:\n\n Seed: 'ATG'\n Found at positions: [0]\n\n Seed: 'TGC'\n Found at positions: [1]\n\n Seed: 'GCG'\n Found at positions: [50, 2]\n\n Seed: 'CGT'\n Found at positions: [51, 3, 72, 55, 33, 7]\n\n Seed: 'GTA'\n Found at positions: [52, 4, 73, 56, 34, 8]\n\n Seed: 'TAC'\n Found at positions: [70, 53, 31, 5]\n\n Seed: 'ACG'\n Found at positions: [71, 54, 32, 6]\n\n Seed: 'TAG'\n Found at positions: [78, 48, 74, 57, 35, 9, 61, 22, 39, 13, 65, 26, 43, 17]\n\n Seed: 'AGC'\n Found at positions: [49, 75, 58, 36, 10, 62, 23, 40, 14]\n\n Seed: 'GCT'\n Found at positions: [68, 29, 76, 46, 59, 20, 37, 11, 63, 24, 41, 15]\n\n Seed: 'CTA'\n Found at positions: [69, 30, 77, 47, 60, 21, 38, 12, 64, 25, 42, 16]\n\n Seed: 'AGG'\n Found at positions: [66, 27, 44, 18]\n\n Seed: 'GGC'\n Found at positions: [67, 28, 45, 19]\n\n Seed: 'XYZ'\n Found at positions: []\n\n Seed: 'ABC'\n Found at positions: []\n\n Seed: 'NOP'\n Found at positions: []\n\n Seed: 'TTT'\n Found at positions: []\n\n Seed: 'GGG'\n Found at positions: []\n\n Reconstructed Read Skeleton from Seeds:\nATGCGTA----------------------GCTA---------------TAGCGTA--TAGC-----AGGCTACGTAGCTAG\n"
        }
      ],
      "execution_count": 1
    },
    {
      "id": "ff226985-8b44-4fb1-91b4-92f3f034f4cd",
      "cell_type": "code",
      "source": "",
      "metadata": {
        "trusted": true
      },
      "outputs": [],
      "execution_count": null
    }
  ]
}